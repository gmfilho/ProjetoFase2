{
  "nbformat": 4,
  "nbformat_minor": 0,
  "metadata": {
    "colab": {
      "name": "Visualização_e_Salvar.ipynb",
      "provenance": []
    },
    "kernelspec": {
      "name": "python3",
      "display_name": "Python 3"
    },
    "language_info": {
      "name": "python"
    }
  },
  "cells": [
    {
      "cell_type": "markdown",
      "source": [
        "# **Projeto 1 - Fase 2 - LAIS/UFRN**\n",
        "\n",
        "###Nome: Gilberto Martins Filho \n",
        "###E-mail: gilberto.filho@edu.isd.org.br\n",
        "\n",
        "\n"
      ],
      "metadata": {
        "id": "-nDhHkxac2xu"
      }
    },
    {
      "cell_type": "markdown",
      "source": [
        "##Instalando as bibliotecas necessárias\n",
        "\n"
      ],
      "metadata": {
        "id": "81ocL8C8eFaU"
      }
    },
    {
      "cell_type": "code",
      "execution_count": 1,
      "metadata": {
        "colab": {
          "base_uri": "https://localhost:8080/"
        },
        "id": "nA8KR3k8CN0G",
        "outputId": "fa68cbb2-b2ac-4def-9228-50d271a45018"
      },
      "outputs": [
        {
          "output_type": "stream",
          "name": "stdout",
          "text": [
            "Looking in indexes: https://pypi.org/simple, https://us-python.pkg.dev/colab-wheels/public/simple/\n",
            "Collecting pyserial\n",
            "  Downloading pyserial-3.5-py2.py3-none-any.whl (90 kB)\n",
            "\u001b[K     |████████████████████████████████| 90 kB 3.8 MB/s \n",
            "\u001b[?25hInstalling collected packages: pyserial\n",
            "Successfully installed pyserial-3.5\n"
          ]
        }
      ],
      "source": [
        "!pip install pyserial"
      ]
    },
    {
      "cell_type": "markdown",
      "source": [
        "##Importando as bibliotecas"
      ],
      "metadata": {
        "id": "b2MNMZLTeKeL"
      }
    },
    {
      "cell_type": "code",
      "source": [
        "import serial\n",
        "import matplotlib.pyplot as plt\n",
        "import matplotlib.animation as animation\n",
        "import numpy as np\n",
        "import pandas as pd\n",
        "import time"
      ],
      "metadata": {
        "id": "2zJ9TwJkbVk_"
      },
      "execution_count": 6,
      "outputs": []
    },
    {
      "cell_type": "markdown",
      "source": [
        "##Iniciando a conexão Serial\n",
        "\n",
        "---\n",
        "\n",
        "Aqui será iniciada a conexão com a porta serial onde o arduíno está conectado e realizando a leitura dos dados.\n"
      ],
      "metadata": {
        "id": "x9IL0ygmeWhx"
      }
    },
    {
      "cell_type": "code",
      "source": [
        "arduino = serial.Serial('/caminho/da_porta_serial', 9600, timeout=1)"
      ],
      "metadata": {
        "id": "F2mPC4zCcg_7"
      },
      "execution_count": null,
      "outputs": []
    },
    {
      "cell_type": "code",
      "source": [
        "data = float(arduino.readline())"
      ],
      "metadata": {
        "id": "MwiFwp3Kc2Lj"
      },
      "execution_count": null,
      "outputs": []
    },
    {
      "cell_type": "markdown",
      "source": [
        "##Transformando o sinal recebido \n",
        "\n",
        "---\n",
        "\n",
        "O sinal recebido está em PPM, onde deve ser convertido para pressão parcial de CO2. Assim, realizaremos a seguinte operação:\n"
      ],
      "metadata": {
        "id": "LwYvMFoVe8d7"
      }
    },
    {
      "cell_type": "code",
      "source": [
        "#PPM to volume \n",
        "\n",
        "data_volume = data/10000"
      ],
      "metadata": {
        "id": "3qzIiif8cuz-"
      },
      "execution_count": null,
      "outputs": []
    },
    {
      "cell_type": "code",
      "source": [
        "#Pressão parcial do CO2 - usaremos a pressão atmosférica\n",
        "pressure = 760\n",
        "PPCO2 = (data_volume/pressure)/100 #Esse resultado dá a pressão parcial de CO2 em mmHg\n"
      ],
      "metadata": {
        "id": "PE5yrBBLjR3L"
      },
      "execution_count": null,
      "outputs": []
    },
    {
      "cell_type": "markdown",
      "source": [
        "##Realizando a coleta dos dados e fazendo o processamento desses dados"
      ],
      "metadata": {
        "id": "_esSC6JVlQPT"
      }
    },
    {
      "cell_type": "code",
      "source": [
        "df = pd.DataFrame()\n",
        "\n",
        "while True: \n",
        "  data = float(arduino.readline())\n",
        "  data_volume = data/10000\n",
        "  pressure = 760\n",
        "  PPCO2 = (data_volume/pressure)/100 \n",
        "  t = time\n",
        "  \n",
        "  #plotando o gráfico\n",
        "  plt.plot(PPC02, t)\n",
        "  plt.title('Pressão parcial de CO2')\n",
        "  plt.xlabel('PPCO2 mmHg')\n",
        "  plt.ylabel('Tempo (s)')\n",
        "\n",
        "  #salvando os dados\n",
        "  caminho = 'caminho para salvar o arquivo'\n",
        "  df = df.append({PPCO2, time}, ignore_index=True)\n",
        "\n",
        "print(df.shape)\n",
        "df.to_excel('caminho_do_arquivo.xls', index=False)\n"
      ],
      "metadata": {
        "id": "harm751qjR7-"
      },
      "execution_count": null,
      "outputs": []
    }
  ]
}